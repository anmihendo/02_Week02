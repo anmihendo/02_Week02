{
 "cells": [
  {
   "cell_type": "markdown",
   "metadata": {},
   "source": [
    "# Week 2 Assignment\n",
    "This week, we'll dig into working with data types in Python. Next, we'll start to write some very basic expressions that can evaluate that data for us. In the process, we'll also unpack the power of methods to perform common tasks on the data whether they be numbers or text. Finally, we'll rewrite a bit of Shakespeare using methods and figure out how long until we can retire.\n",
    "\n",
    "Total points: 100"
   ]
  },
  {
   "cell_type": "markdown",
   "metadata": {},
   "source": [
    "### 1. (10 pts) Writing a Simple Expression\n",
    "Write a simple expression that includes a string with a variable for holding your favorite musician's first and last name and print this to the screen"
   ]
  },
  {
   "cell_type": "code",
   "execution_count": 3,
   "metadata": {},
   "outputs": [
    {
     "name": "stdout",
     "output_type": "stream",
     "text": [
      "Frederic Chopin\n"
     ]
    }
   ],
   "source": [
    "# Answer #1 Goes Here\n",
    "\n",
    "# Favorite Musician\n",
    "musician = \"Frederic Chopin\"\n",
    "print(musician)"
   ]
  },
  {
   "cell_type": "markdown",
   "metadata": {},
   "source": [
    "### 2.  (10 pts Passing in and returning variables\n",
    "Let's print to the screen a bit of explanatory text and then pass in your variable for your favorite musician. Ex: \"The greatest musician of all time is Bob Dylan\". "
   ]
  },
  {
   "cell_type": "code",
   "execution_count": 6,
   "metadata": {},
   "outputs": [
    {
     "name": "stdout",
     "output_type": "stream",
     "text": [
      "My favorite classical musician is Frederic Chopin.\n"
     ]
    }
   ],
   "source": [
    "# Answer #2 Goes Here\n",
    "#Explanatory Text\n",
    "print(\"My favorite classical musician is \" + musician + \".\")"
   ]
  },
  {
   "cell_type": "markdown",
   "metadata": {},
   "source": [
    "### 3. (10 pts) Basic String Methods\n",
    "Print out the third letter of the musician's first name. Hint: look up indexing and sequencing strings if stuck and consider breaking out the name into two variables "
   ]
  },
  {
   "cell_type": "code",
   "execution_count": 8,
   "metadata": {},
   "outputs": [
    {
     "data": {
      "text/plain": [
       "'e'"
      ]
     },
     "execution_count": 8,
     "metadata": {},
     "output_type": "execute_result"
    }
   ],
   "source": [
    "# Answer #3 Goes Here\n",
    "# printing the the 3rd letter\n",
    "musician[2]"
   ]
  },
  {
   "cell_type": "markdown",
   "metadata": {},
   "source": [
    "### 4. (10 pts) Basic String Methods (cont'd)\n",
    "Print out and capitalize the entire first name of the musician and the length of the string. It should read \"The greatest musician of all time is NAME and they have X characters in their name\". Where X is the length of their name. Hint: use a handy string method for the length"
   ]
  },
  {
   "cell_type": "code",
   "execution_count": 14,
   "metadata": {},
   "outputs": [
    {
     "name": "stdout",
     "output_type": "stream",
     "text": [
      "The greatest musician of all time is FREDERICand they have 8 characters in their name.\n"
     ]
    }
   ],
   "source": [
    "# Answer #4 Goes Here\n",
    "\n",
    "#Print sentence and, capitalize the first name, and count the letters in the name\n",
    "x = \"frederic\"\n",
    "print(\"The greatest musician of all time is \" + x.upper() + \" and they have \" + str(len(x)) + \" characters in their name.\")"
   ]
  },
  {
   "cell_type": "markdown",
   "metadata": {},
   "source": [
    "### 5. (10 pts) Formatted String\n",
    "Using a formatted string, print out the musicians first and last name. Hint: curly braces are your friend"
   ]
  },
  {
   "cell_type": "code",
   "execution_count": 15,
   "metadata": {},
   "outputs": [
    {
     "data": {
      "text/plain": [
       "'Frederic Chopin'"
      ]
     },
     "execution_count": 15,
     "metadata": {},
     "output_type": "execute_result"
    }
   ],
   "source": [
    "# Answer #5 Goes Here\n",
    "# formatted string to print out the first and last name\n",
    "'{music}'.format(music=musician)"
   ]
  },
  {
   "cell_type": "markdown",
   "metadata": {},
   "source": [
    "### 6. (10 pts) Working with Integers\n",
    "Print out the result of adding 5 + 3.75 by setting up variables and also return the data type of the result (int? float?)"
   ]
  },
  {
   "cell_type": "code",
   "execution_count": 17,
   "metadata": {},
   "outputs": [
    {
     "name": "stdout",
     "output_type": "stream",
     "text": [
      "8.75\n",
      "<class 'float'>\n"
     ]
    }
   ],
   "source": [
    "# Answer #6 Goes Here\n",
    "i = int(5)\n",
    "f = float(3.75)\n",
    "result = i + f\n",
    "print(result)\n",
    "\n",
    "#What type is the result\n",
    "print(type(result))"
   ]
  },
  {
   "cell_type": "markdown",
   "metadata": {},
   "source": [
    "### 7. (10 pts) Working with Operators\n",
    "Write a simple equation that takes the number 4 and squares it and then adds 4. Next, divide this result by 2. Finally, subtract 30 but force this result to be a positive number using a method. You should get the final answer ti be 20."
   ]
  },
  {
   "cell_type": "code",
   "execution_count": 21,
   "metadata": {},
   "outputs": [
    {
     "name": "stdout",
     "output_type": "stream",
     "text": [
      "20 10.0 20.0\n"
     ]
    }
   ],
   "source": [
    "# Answer #7 Goes Here\n",
    "#square 4 and then add 4.  \n",
    "first = (4 ** 2) + 4\n",
    "\n",
    "#divide by 2\n",
    "second = first/2\n",
    "\n",
    "#subtract 30 and make positive\n",
    "\n",
    "third = abs(second-30)\n",
    "\n",
    "print(first, second, third)"
   ]
  },
  {
   "cell_type": "markdown",
   "metadata": {},
   "source": [
    "### 8. 15 pts - Strings and methods\n",
    "Shakespeare was gifted but we might rewrite a bit of sonnet.\n",
    "\n",
    "\n",
    "Sonnet 18, the Shall I compare thee to a summer’s day?\n",
    "Thou art more lovely and more temperate:\n",
    "Rough winds do shake the darling buds of May,\n",
    "And summer’s lease hath all too short a date;\n",
    "Sometime too hot the eye of heaven shines,\n",
    "And often is his gold complexion dimm'd;\n",
    "And every fair from fair sometime declines,\n",
    "By chance or nature’s changing course untrimm'd;\n",
    "But thy eternal summer shall not fade,\n",
    "Nor lose possession of that fair thou ow’st;\n",
    "Nor shall death brag thou wander’st in his shade,\n",
    "When in eternal lines to time thou grow’st:\n",
    "So long as men can breathe or eyes can see,\n",
    "So long lives this, and this gives life to thee.\n",
    "\n",
    "Using a few methods, count the number of times the word 'thee' appears and replace it with the word 'tho'. Print out a message that says, \"While thee occurs X times, I think it sounds better with tho.\\n See below:\" Where X is the result of your count method and the poem is rewritten with the word tho instead of thee "
   ]
  },
  {
   "cell_type": "code",
   "execution_count": 37,
   "metadata": {},
   "outputs": [
    {
     "name": "stdout",
     "output_type": "stream",
     "text": [
      "While thee occurs 2 times, I think it sounds better with tho. See below: \n",
      "\n",
      "Sonnet 18, the Shall I compare \u001b[1mtho\u001b[0m to a summer’s day? Thou art more lovely and more temperate: \n",
      "    Rough winds do shake the darling buds of May, And summer’s lease hath all too short a date; \n",
      "    Sometime too hot the eye of heaven shines, And often is his gold complexion dimm'd; \n",
      "    And every fair from fair sometime declines, By chance or nature’s changing course untrimm'd; \n",
      "    But thy eternal summer shall not fade, Nor lose possession of that fair thou ow’st; \n",
      "    Nor shall death brag thou wander’st in his shade, When in eternal lines to time thou grow’st: \n",
      "        So long as men can breathe or eyes can see, So long lives this, and this gives life to \u001b[1mtho\u001b[0m.\n"
     ]
    }
   ],
   "source": [
    "# Answer #8 Goes Here\n",
    "#Count the word thee\n",
    "\n",
    "sonnet = \"\"\"Sonnet 18, the Shall I compare thee to a summer’s day? Thou art more lovely and more temperate: \n",
    "    Rough winds do shake the darling buds of May, And summer’s lease hath all too short a date; \n",
    "    Sometime too hot the eye of heaven shines, And often is his gold complexion dimm'd; \n",
    "    And every fair from fair sometime declines, By chance or nature’s changing course untrimm'd; \n",
    "    But thy eternal summer shall not fade, Nor lose possession of that fair thou ow’st; \n",
    "    Nor shall death brag thou wander’st in his shade, When in eternal lines to time thou grow’st: \n",
    "        So long as men can breathe or eyes can see, So long lives this, and this gives life to thee.\"\"\"\n",
    "\n",
    "theeCount = sonnet.count('thee')\n",
    "\n",
    "#replace \"thee\" with \"tho\"\n",
    "sonnet = sonnet.replace('thee','\\033[1m' + 'tho' + '\\033[0m')\n",
    "\n",
    "print(\"While thee occurs \" + str(theeCount) + \" times, I think it sounds better with tho. See below: \\n\\n\" + sonnet)\n"
   ]
  },
  {
   "cell_type": "markdown",
   "metadata": {},
   "source": [
    "### 9. 15 pts - Integers and casting\n",
    "Let's tie everything together and think about how a simple method for calculating how long someone has to go until they get to retire. We'll take an input from a user for their age and set this as a variable. Next, we'll return the numbers of years they have to go for working by subtracting their age value from 65. Finally, we'll print out a statement that tells this user the following \"You have X years to go before you can retire\". Hint: make sure you cast your data types correctly for doing the math"
   ]
  },
  {
   "cell_type": "code",
   "execution_count": 46,
   "metadata": {},
   "outputs": [
    {
     "name": "stdout",
     "output_type": "stream",
     "text": [
      "How old are you?d546\n",
      "Not a number! Try again.\n",
      "How old are you?35\n",
      "You have 30 years to go before you can retire.\n"
     ]
    }
   ],
   "source": [
    "# Answer #9 Goes Here\n",
    "#User Input\n",
    "#define the number enter and error if not a number\n",
    "\n",
    "def inputNumber(message):\n",
    "  while True:\n",
    "    try:\n",
    "       userInput = int(input(message))       \n",
    "    except ValueError:\n",
    "       print(\"Not a number! Try again.\")\n",
    "       continue\n",
    "    else:\n",
    "       return userInput\n",
    "\n",
    "#user inputs age\n",
    "age = inputNumber(\"How old are you?\")\n",
    "\n",
    "#final output\n",
    "if (age>=65):\n",
    "    print(\"You are old enough to retire.\")\n",
    "else:\n",
    "    print(\"You have \" + str(65-age) + \" years to go before you can retire.\")\n",
    "\n"
   ]
  },
  {
   "cell_type": "code",
   "execution_count": null,
   "metadata": {},
   "outputs": [],
   "source": []
  }
 ],
 "metadata": {
  "kernelspec": {
   "display_name": "Python 3",
   "language": "python",
   "name": "python3"
  },
  "language_info": {
   "codemirror_mode": {
    "name": "ipython",
    "version": 3
   },
   "file_extension": ".py",
   "mimetype": "text/x-python",
   "name": "python",
   "nbconvert_exporter": "python",
   "pygments_lexer": "ipython3",
   "version": "3.8.5"
  }
 },
 "nbformat": 4,
 "nbformat_minor": 4
}
