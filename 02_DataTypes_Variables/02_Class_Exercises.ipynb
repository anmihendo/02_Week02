{
 "cells": [
  {
   "cell_type": "markdown",
   "metadata": {},
   "source": [
    "# Data Types\n",
    "Getting started with working on floats, integers, and strings along with basic things like setting variables and pre-built functions (methods) native to Python. "
   ]
  },
  {
   "cell_type": "markdown",
   "metadata": {},
   "source": [
    "### Let's Play With Text aka Strings"
   ]
  },
  {
   "cell_type": "code",
   "execution_count": 2,
   "metadata": {},
   "outputs": [
    {
     "name": "stdout",
     "output_type": "stream",
     "text": [
      "The Incredible Hulk\n"
     ]
    }
   ],
   "source": [
    "# This is a comment and how we write stuff\n",
    "# Here we're going to set a variable to hold our text data\n",
    "\n",
    "name = 'The Incredible Hulk'\n",
    "\n",
    "print(name)\n"
   ]
  },
  {
   "cell_type": "code",
   "execution_count": 3,
   "metadata": {},
   "outputs": [
    {
     "name": "stdout",
     "output_type": "stream",
     "text": [
      "hello\n",
      "world\n"
     ]
    }
   ],
   "source": [
    "# Let's break it out by line by line\n",
    "\n",
    "hello = \"hello\\nworld\"\n",
    "print(hello)"
   ]
  },
  {
   "cell_type": "code",
   "execution_count": 4,
   "metadata": {},
   "outputs": [
    {
     "ename": "SyntaxError",
     "evalue": "invalid syntax (<ipython-input-4-5d6dc91e69c2>, line 3)",
     "output_type": "error",
     "traceback": [
      "\u001b[0;36m  File \u001b[0;32m\"<ipython-input-4-5d6dc91e69c2>\"\u001b[0;36m, line \u001b[0;32m3\u001b[0m\n\u001b[0;31m    GOAT_Jersey = 'Michael Jordan's #23 of course!\u001b[0m\n\u001b[0m                                  ^\u001b[0m\n\u001b[0;31mSyntaxError\u001b[0m\u001b[0;31m:\u001b[0m invalid syntax\n"
     ]
    }
   ],
   "source": [
    "# Now, let's figure out why this breaks...\n",
    "\n",
    "GOAT_Jersey = 'Michael Jordan's #23 of course!\n",
    "print(GOAT_Jersey)"
   ]
  },
  {
   "cell_type": "code",
   "execution_count": 5,
   "metadata": {},
   "outputs": [
    {
     "name": "stdout",
     "output_type": "stream",
     "text": [
      "Michael Jordan's #23 of course!\n"
     ]
    }
   ],
   "source": [
    "# Let's use double quotes\n",
    "\n",
    "GOAT_Jersey = \"Michael Jordan's #23 of course!\"\n",
    "print(GOAT_Jersey)"
   ]
  },
  {
   "cell_type": "code",
   "execution_count": 6,
   "metadata": {},
   "outputs": [
    {
     "name": "stdout",
     "output_type": "stream",
     "text": [
      "Michael Jordan's 23 is the greatest of all time\n"
     ]
    }
   ],
   "source": [
    "# Trying this again...\n",
    "\n",
    "TrueGOAT_Jersey = 'Michael Jordan\\'s 23 is the greatest of all time'\n",
    "print(TrueGOAT_Jersey)"
   ]
  },
  {
   "cell_type": "code",
   "execution_count": 9,
   "metadata": {},
   "outputs": [
    {
     "name": "stdout",
     "output_type": "stream",
     "text": [
      "Michael Jordan\n"
     ]
    }
   ],
   "source": [
    "# Looking at it another way...\n",
    "\n",
    "x = 'Michael '\n",
    "y = 'Jordan'\n",
    "z = x + y\n",
    "print(z)"
   ]
  },
  {
   "cell_type": "code",
   "execution_count": 13,
   "metadata": {},
   "outputs": [
    {
     "name": "stdout",
     "output_type": "stream",
     "text": [
      "The greatest of all time is MichaelJordan\n",
      "The greatest of all time is Michael Jordan\n"
     ]
    }
   ],
   "source": [
    "# Let's play around with some concatenation (joining)\n",
    "\n",
    "x = 'Michael'\n",
    "y = 'Jordan'\n",
    "print('The greatest of all time is ' + x + y)\n",
    "\n",
    "print('The greatest of all time is ' + x, \"\" + y)"
   ]
  },
  {
   "cell_type": "code",
   "execution_count": 20,
   "metadata": {},
   "outputs": [
    {
     "data": {
      "text/plain": [
       "'t'"
      ]
     },
     "execution_count": 20,
     "metadata": {},
     "output_type": "execute_result"
    }
   ],
   "source": [
    "# Strings can be sequences of characters\n",
    "\n",
    "planet = 'pluto'\n",
    "\n",
    "planet[3]\n",
    "\n"
   ]
  },
  {
   "cell_type": "code",
   "execution_count": 21,
   "metadata": {},
   "outputs": [
    {
     "data": {
      "text/plain": [
       "'plu'"
      ]
     },
     "execution_count": 21,
     "metadata": {},
     "output_type": "execute_result"
    }
   ],
   "source": [
    "# Slice a string to get a \"chunk\"\n",
    "# We'll use this a lot when we work with lists - a data structure\n",
    "\n",
    "planet[0:3]"
   ]
  },
  {
   "cell_type": "code",
   "execution_count": 19,
   "metadata": {},
   "outputs": [
    {
     "data": {
      "text/plain": [
       "'Mercury, Jupiter, ar'"
      ]
     },
     "execution_count": 19,
     "metadata": {},
     "output_type": "execute_result"
    }
   ],
   "source": [
    "# Grabbing a longer string sequence\n",
    "\n",
    "favorite = 'Mercury, Jupiter, are my favorites but Saturn not so much'\n",
    "favorite[0:20]"
   ]
  },
  {
   "cell_type": "markdown",
   "metadata": {},
   "source": [
    "#### Sneak Peek: Methods in Python"
   ]
  },
  {
   "cell_type": "code",
   "execution_count": 22,
   "metadata": {},
   "outputs": [
    {
     "name": "stdout",
     "output_type": "stream",
     "text": [
      "5\n"
     ]
    }
   ],
   "source": [
    "# Prebuilt functions (methods) in Python!\n",
    "\n",
    "# How many characters does the variable planet hold?\n",
    "\n",
    "print(len(planet))"
   ]
  },
  {
   "cell_type": "code",
   "execution_count": 25,
   "metadata": {},
   "outputs": [
    {
     "name": "stdout",
     "output_type": "stream",
     "text": [
      "PLUTO\n",
      "Pluto\n",
      "Pluto\n"
     ]
    }
   ],
   "source": [
    "# Let's play with formatting our planet variable\n",
    "\n",
    "print(planet.upper())\n",
    "print(planet.capitalize())\n",
    "print(planet.title())\n"
   ]
  },
  {
   "cell_type": "code",
   "execution_count": 32,
   "metadata": {},
   "outputs": [
    {
     "name": "stdout",
     "output_type": "stream",
     "text": [
      "The greatest of all time is Michael Jordan\n"
     ]
    }
   ],
   "source": [
    "# Let's use a formatted method on the string to do the same thing\n",
    "# The curly braces act as placeholders for us to pass in our variables \n",
    "\n",
    "message = 'The greatest of all time is {} {}'.format(x, y)\n",
    "print(message)"
   ]
  },
  {
   "cell_type": "code",
   "execution_count": 29,
   "metadata": {},
   "outputs": [
    {
     "name": "stdout",
     "output_type": "stream",
     "text": [
      "Help on built-in function format in module builtins:\n",
      "\n",
      "format(value, format_spec='', /)\n",
      "    Return value.__format__(format_spec)\n",
      "    \n",
      "    format_spec defaults to the empty string.\n",
      "    See the Format Specification Mini-Language section of help('FORMATTING') for\n",
      "    details.\n",
      "\n"
     ]
    }
   ],
   "source": [
    "# You can use help on any method but Googling is usually easier\n",
    "help(format)"
   ]
  },
  {
   "cell_type": "markdown",
   "metadata": {},
   "source": [
    "### Numbers aka Integers and Floats"
   ]
  },
  {
   "cell_type": "code",
   "execution_count": 37,
   "metadata": {},
   "outputs": [
    {
     "name": "stdout",
     "output_type": "stream",
     "text": [
      "1\n",
      "<class 'int'>\n"
     ]
    }
   ],
   "source": [
    "a = 1 #integer or int\n",
    "\n",
    "print(a)\n",
    "\n",
    "# Let's verify what type of data this is\n",
    "print(type(a)) "
   ]
  },
  {
   "cell_type": "code",
   "execution_count": 39,
   "metadata": {},
   "outputs": [
    {
     "name": "stdout",
     "output_type": "stream",
     "text": [
      "3.14\n",
      "<class 'float'>\n"
     ]
    }
   ],
   "source": [
    "pi = 3.14\n",
    "\n",
    "print(pi)\n",
    "print(type(pi))"
   ]
  },
  {
   "cell_type": "code",
   "execution_count": 41,
   "metadata": {},
   "outputs": [
    {
     "name": "stdout",
     "output_type": "stream",
     "text": [
      "3\n",
      "<class 'int'>\n"
     ]
    }
   ],
   "source": [
    "# Let's look at casting our numbers\n",
    "\n",
    "pi = int(pi)\n",
    "print(pi)\n",
    "print(type(pi))"
   ]
  },
  {
   "cell_type": "code",
   "execution_count": 42,
   "metadata": {},
   "outputs": [
    {
     "name": "stdout",
     "output_type": "stream",
     "text": [
      "We have 7 months to go, so plenty of time to shape up!\n"
     ]
    }
   ],
   "source": [
    "# Let's play with Operators\n",
    "\n",
    "#Addition: 3+2\n",
    "#Subtraction: 3-2\n",
    "#Multiplication: 3*2\n",
    "#Division: 3/2\n",
    "#Exponent 3**2\n",
    "\n",
    "Month = 5\n",
    "Christmas = 12\n",
    "\n",
    "Months_to_christmas = Christmas - Month\n",
    "print('We have ' + str(Months_to_christmas) + ' months to go, so plenty of time to shape up!')"
   ]
  },
  {
   "cell_type": "code",
   "execution_count": 46,
   "metadata": {},
   "outputs": [
    {
     "name": "stdout",
     "output_type": "stream",
     "text": [
      "8\n",
      "A big growth rate is 16\n"
     ]
    }
   ],
   "source": [
    "# Exponentials are sooo cool\n",
    "\n",
    "initial = 2\n",
    "\n",
    "growth_rate = 3\n",
    "\n",
    "big_growth_rate = 4\n",
    "\n",
    "result1 = initial ** growth_rate #2^3\n",
    "result2 = initial ** big_growth_rate #2^4\n",
    "\n",
    "print(result1)\n",
    "print('A big growth rate is ' + str(result2))"
   ]
  },
  {
   "cell_type": "code",
   "execution_count": null,
   "metadata": {},
   "outputs": [],
   "source": [
    "# Setting up some comparisons here - comes in very handy here in the coming weeks\n",
    "\n",
    "# Comparisons:\n",
    "# Equal:            3 == 2\n",
    "# Not Equal:        3 != 2\n",
    "# Greater Than:     3 > 2\n",
    "# Less Than:        3 < 2\n",
    "# Greater or Equal: 3 >= 2\n",
    "# Less or Equal:    3 <= 2\n",
    "\n"
   ]
  },
  {
   "cell_type": "code",
   "execution_count": 47,
   "metadata": {},
   "outputs": [
    {
     "data": {
      "text/plain": [
       "False"
      ]
     },
     "execution_count": 47,
     "metadata": {},
     "output_type": "execute_result"
    }
   ],
   "source": [
    "# Playing around with some operators\n",
    "\n",
    "a = 10\n",
    "b = 20\n",
    "\n",
    "# Note we're using 2 equal signs here to tell Python to compare the variables and not set as a variable!\n",
    "a == b"
   ]
  },
  {
   "cell_type": "code",
   "execution_count": 48,
   "metadata": {},
   "outputs": [
    {
     "data": {
      "text/plain": [
       "True"
      ]
     },
     "execution_count": 48,
     "metadata": {},
     "output_type": "execute_result"
    }
   ],
   "source": [
    "c = 34\n",
    "d = 13\n",
    "\n",
    "c >= d"
   ]
  },
  {
   "cell_type": "code",
   "execution_count": 50,
   "metadata": {},
   "outputs": [
    {
     "name": "stdout",
     "output_type": "stream",
     "text": [
      "45\n"
     ]
    }
   ],
   "source": [
    "# Order of operations - just like always\n",
    "\n",
    "e = 5\n",
    "f = 7\n",
    "g = 10\n",
    "\n",
    "break_it_down = (e*f) + g\n",
    "\n",
    "print(break_it_down)"
   ]
  },
  {
   "cell_type": "code",
   "execution_count": 52,
   "metadata": {},
   "outputs": [
    {
     "name": "stdout",
     "output_type": "stream",
     "text": [
      "2\n"
     ]
    }
   ],
   "source": [
    "# Let's use some incrementers\n",
    "\n",
    "num = 1\n",
    "\n",
    "#num = num + 1\n",
    "num += 1\n",
    "\n",
    "print(num)"
   ]
  },
  {
   "cell_type": "code",
   "execution_count": 54,
   "metadata": {},
   "outputs": [
    {
     "name": "stdout",
     "output_type": "stream",
     "text": [
      "5.5\n",
      "6.8\n"
     ]
    }
   ],
   "source": [
    "# Methods for integers and floats\n",
    "\n",
    "# Get back the absolute value \n",
    "print(abs(-5.5))\n",
    "\n",
    "# Round to the first digit after the decimal\n",
    "print(round(6.7598, 1))"
   ]
  },
  {
   "cell_type": "code",
   "execution_count": 55,
   "metadata": {},
   "outputs": [
    {
     "data": {
      "text/plain": [
       "False"
      ]
     },
     "execution_count": 55,
     "metadata": {},
     "output_type": "execute_result"
    }
   ],
   "source": [
    "# Let's Compare our growth rates to get a \"Boolean\" value - True or False\n",
    "\n",
    "growth_rate > big_growth_rate"
   ]
  },
  {
   "cell_type": "markdown",
   "metadata": {},
   "source": [
    "### Casting & Methods In More Depth\n",
    "Sometimes we need to change our data types from one to another to make it work with a method"
   ]
  },
  {
   "cell_type": "code",
   "execution_count": 34,
   "metadata": {},
   "outputs": [],
   "source": [
    "# Let's change our data types\n",
    "\n",
    "\n",
    "# These are getting set as strings...but you can't add strings, right?\n",
    "#num_1 = '10'\n",
    "#num_2 = '20'\n",
    "\n",
    "#print(num_1 + num_2)\n",
    "\n",
    "# So, we cast them so we can do arithmetic \n",
    "#num_1 = int(num_1)\n",
    "#num_2 = int(num_2)\n",
    "\n",
    "#print(num_1 + num_2)"
   ]
  },
  {
   "cell_type": "code",
   "execution_count": null,
   "metadata": {},
   "outputs": [],
   "source": [
    "# Let's use the count method to determine the occurrence of i in the string Mississippi\n",
    "# Using a method prebuilt for handling string data types - the count method\n",
    "\n",
    "# Initiatlizing the string\n",
    "state = 'Mississippi'\n",
    "\n",
    "# Using count() method to get i's on our state variable\n",
    "counter = state.count('i')\n",
    "\n",
    "#print('Count of i in Mississippi is: ' + (counter))\n",
    "#print('Count of i in Mississippi is: ' + str(counter))\n",
    "#print(type(counter))"
   ]
  },
  {
   "cell_type": "code",
   "execution_count": null,
   "metadata": {},
   "outputs": [],
   "source": [
    "# Finally, let's take some input from a user and act on it\n",
    "\n",
    "name = (input())\n",
    "#print('Nice to meet you {}'.format(name))\n",
    "print(\"Nice to meet you \" + str(name))\n",
    "print(type(name))"
   ]
  },
  {
   "cell_type": "code",
   "execution_count": null,
   "metadata": {},
   "outputs": [],
   "source": []
  }
 ],
 "metadata": {
  "kernelspec": {
   "display_name": "Python 3",
   "language": "python",
   "name": "python3"
  },
  "language_info": {
   "codemirror_mode": {
    "name": "ipython",
    "version": 3
   },
   "file_extension": ".py",
   "mimetype": "text/x-python",
   "name": "python",
   "nbconvert_exporter": "python",
   "pygments_lexer": "ipython3",
   "version": "3.8.5"
  }
 },
 "nbformat": 4,
 "nbformat_minor": 4
}
